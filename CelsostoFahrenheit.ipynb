{
  "cells": [
    {
      "cell_type": "code",
      "execution_count": 8,
      "metadata": {
        "id": "e3sjz-0Hnnqg"
      },
      "outputs": [
        {
          "name": "stdout",
          "output_type": "stream",
          "text": [
            "Collecting tensorflow\n",
            "  Obtaining dependency information for tensorflow from https://files.pythonhosted.org/packages/85/15/cf99a373812d37f8ae99752a34a9f5f690d820ceb5b302e922705bc18944/tensorflow-2.15.0-cp311-cp311-macosx_12_0_arm64.whl.metadata\n",
            "  Downloading tensorflow-2.15.0-cp311-cp311-macosx_12_0_arm64.whl.metadata (3.6 kB)\n",
            "Collecting tensorflow-macos==2.15.0 (from tensorflow)\n",
            "  Obtaining dependency information for tensorflow-macos==2.15.0 from https://files.pythonhosted.org/packages/eb/9f/0759e2fea4a3c48f070b64811c2c57036b46353ba87263afc810b8f4188a/tensorflow_macos-2.15.0-cp311-cp311-macosx_12_0_arm64.whl.metadata\n",
            "  Downloading tensorflow_macos-2.15.0-cp311-cp311-macosx_12_0_arm64.whl.metadata (4.2 kB)\n",
            "Collecting absl-py>=1.0.0 (from tensorflow-macos==2.15.0->tensorflow)\n",
            "  Obtaining dependency information for absl-py>=1.0.0 from https://files.pythonhosted.org/packages/01/e4/dc0a1dcc4e74e08d7abedab278c795eef54a224363bb18f5692f416d834f/absl_py-2.0.0-py3-none-any.whl.metadata\n",
            "  Using cached absl_py-2.0.0-py3-none-any.whl.metadata (2.3 kB)\n",
            "Collecting astunparse>=1.6.0 (from tensorflow-macos==2.15.0->tensorflow)\n",
            "  Using cached astunparse-1.6.3-py2.py3-none-any.whl (12 kB)\n",
            "Collecting flatbuffers>=23.5.26 (from tensorflow-macos==2.15.0->tensorflow)\n",
            "  Obtaining dependency information for flatbuffers>=23.5.26 from https://files.pythonhosted.org/packages/6f/12/d5c79ee252793ffe845d58a913197bfa02ae9a0b5c9bc3dc4b58d477b9e7/flatbuffers-23.5.26-py2.py3-none-any.whl.metadata\n",
            "  Using cached flatbuffers-23.5.26-py2.py3-none-any.whl.metadata (850 bytes)\n",
            "Collecting gast!=0.5.0,!=0.5.1,!=0.5.2,>=0.2.1 (from tensorflow-macos==2.15.0->tensorflow)\n",
            "  Using cached gast-0.5.4-py3-none-any.whl (19 kB)\n",
            "Collecting google-pasta>=0.1.1 (from tensorflow-macos==2.15.0->tensorflow)\n",
            "  Using cached google_pasta-0.2.0-py3-none-any.whl (57 kB)\n",
            "Requirement already satisfied: h5py>=2.9.0 in /Users/luizeduardovedoato/anaconda3/lib/python3.11/site-packages (from tensorflow-macos==2.15.0->tensorflow) (3.9.0)\n",
            "Collecting libclang>=13.0.0 (from tensorflow-macos==2.15.0->tensorflow)\n",
            "  Obtaining dependency information for libclang>=13.0.0 from https://files.pythonhosted.org/packages/32/1f/981809b77b71972beec34b3ff5422c1b1f7e519daac7b3cbd055c05ba2cf/libclang-16.0.6-py2.py3-none-macosx_11_0_arm64.whl.metadata\n",
            "  Using cached libclang-16.0.6-py2.py3-none-macosx_11_0_arm64.whl.metadata (5.2 kB)\n",
            "Collecting ml-dtypes~=0.2.0 (from tensorflow-macos==2.15.0->tensorflow)\n",
            "  Obtaining dependency information for ml-dtypes~=0.2.0 from https://files.pythonhosted.org/packages/15/da/43bee505963da0c730ee50e951c604bfdb90d4cccc9c0044c946b10e68a7/ml_dtypes-0.2.0-cp311-cp311-macosx_10_9_universal2.whl.metadata\n",
            "  Using cached ml_dtypes-0.2.0-cp311-cp311-macosx_10_9_universal2.whl.metadata (20 kB)\n",
            "Requirement already satisfied: numpy<2.0.0,>=1.23.5 in /Users/luizeduardovedoato/anaconda3/lib/python3.11/site-packages (from tensorflow-macos==2.15.0->tensorflow) (1.24.3)\n",
            "Collecting opt-einsum>=2.3.2 (from tensorflow-macos==2.15.0->tensorflow)\n",
            "  Using cached opt_einsum-3.3.0-py3-none-any.whl (65 kB)\n",
            "Requirement already satisfied: packaging in /Users/luizeduardovedoato/anaconda3/lib/python3.11/site-packages (from tensorflow-macos==2.15.0->tensorflow) (23.1)\n",
            "Collecting protobuf!=4.21.0,!=4.21.1,!=4.21.2,!=4.21.3,!=4.21.4,!=4.21.5,<5.0.0dev,>=3.20.3 (from tensorflow-macos==2.15.0->tensorflow)\n",
            "  Obtaining dependency information for protobuf!=4.21.0,!=4.21.1,!=4.21.2,!=4.21.3,!=4.21.4,!=4.21.5,<5.0.0dev,>=3.20.3 from https://files.pythonhosted.org/packages/e6/db/7b2edc72807d45d72f9db42f3eb86ddaf37f9e55d923159b1dbfc9d835bc/protobuf-4.25.1-cp37-abi3-macosx_10_9_universal2.whl.metadata\n",
            "  Downloading protobuf-4.25.1-cp37-abi3-macosx_10_9_universal2.whl.metadata (541 bytes)\n",
            "Requirement already satisfied: setuptools in /Users/luizeduardovedoato/anaconda3/lib/python3.11/site-packages (from tensorflow-macos==2.15.0->tensorflow) (68.0.0)\n",
            "Requirement already satisfied: six>=1.12.0 in /Users/luizeduardovedoato/anaconda3/lib/python3.11/site-packages (from tensorflow-macos==2.15.0->tensorflow) (1.16.0)\n",
            "Collecting termcolor>=1.1.0 (from tensorflow-macos==2.15.0->tensorflow)\n",
            "  Using cached termcolor-2.3.0-py3-none-any.whl (6.9 kB)\n",
            "Requirement already satisfied: typing-extensions>=3.6.6 in /Users/luizeduardovedoato/anaconda3/lib/python3.11/site-packages (from tensorflow-macos==2.15.0->tensorflow) (4.7.1)\n",
            "Requirement already satisfied: wrapt<1.15,>=1.11.0 in /Users/luizeduardovedoato/anaconda3/lib/python3.11/site-packages (from tensorflow-macos==2.15.0->tensorflow) (1.14.1)\n",
            "Collecting tensorflow-io-gcs-filesystem>=0.23.1 (from tensorflow-macos==2.15.0->tensorflow)\n",
            "  Obtaining dependency information for tensorflow-io-gcs-filesystem>=0.23.1 from https://files.pythonhosted.org/packages/5b/e9/1444afc87596a90066704cc46ed661a4e7b348eec03a3fc2ca10ab917254/tensorflow_io_gcs_filesystem-0.34.0-cp311-cp311-macosx_12_0_arm64.whl.metadata\n",
            "  Using cached tensorflow_io_gcs_filesystem-0.34.0-cp311-cp311-macosx_12_0_arm64.whl.metadata (14 kB)\n",
            "Collecting grpcio<2.0,>=1.24.3 (from tensorflow-macos==2.15.0->tensorflow)\n",
            "  Obtaining dependency information for grpcio<2.0,>=1.24.3 from https://files.pythonhosted.org/packages/92/93/3cbc00a269b46277ff26355074a8315eeb4c87240c27d6f7efeabe818fd9/grpcio-1.59.3-cp311-cp311-macosx_10_10_universal2.whl.metadata\n",
            "  Downloading grpcio-1.59.3-cp311-cp311-macosx_10_10_universal2.whl.metadata (4.0 kB)\n",
            "Collecting tensorboard<2.16,>=2.15 (from tensorflow-macos==2.15.0->tensorflow)\n",
            "  Obtaining dependency information for tensorboard<2.16,>=2.15 from https://files.pythonhosted.org/packages/6e/0c/1059a6682cf2cc1fcc0d5327837b5672fe4f5574255fa5430d0a8ceb75e9/tensorboard-2.15.1-py3-none-any.whl.metadata\n",
            "  Downloading tensorboard-2.15.1-py3-none-any.whl.metadata (1.7 kB)\n",
            "Collecting tensorflow-estimator<2.16,>=2.15.0 (from tensorflow-macos==2.15.0->tensorflow)\n",
            "  Obtaining dependency information for tensorflow-estimator<2.16,>=2.15.0 from https://files.pythonhosted.org/packages/b6/c8/2f823c8958d5342eafc6dd3e922f0cc4fcf8c2e0460284cc462dae3b60a0/tensorflow_estimator-2.15.0-py2.py3-none-any.whl.metadata\n",
            "  Downloading tensorflow_estimator-2.15.0-py2.py3-none-any.whl.metadata (1.3 kB)\n",
            "Collecting keras<2.16,>=2.15.0 (from tensorflow-macos==2.15.0->tensorflow)\n",
            "  Obtaining dependency information for keras<2.16,>=2.15.0 from https://files.pythonhosted.org/packages/fc/a7/0d4490de967a67f68a538cc9cdb259bff971c4b5787f7765dc7c8f118f71/keras-2.15.0-py3-none-any.whl.metadata\n",
            "  Downloading keras-2.15.0-py3-none-any.whl.metadata (2.4 kB)\n",
            "Requirement already satisfied: wheel<1.0,>=0.23.0 in /Users/luizeduardovedoato/anaconda3/lib/python3.11/site-packages (from astunparse>=1.6.0->tensorflow-macos==2.15.0->tensorflow) (0.38.4)\n",
            "Collecting google-auth<3,>=1.6.3 (from tensorboard<2.16,>=2.15->tensorflow-macos==2.15.0->tensorflow)\n",
            "  Obtaining dependency information for google-auth<3,>=1.6.3 from https://files.pythonhosted.org/packages/86/a7/75911c13a242735d5aeaca6a272da380335ff4ba5f26d6b2ae20ff682d13/google_auth-2.23.4-py2.py3-none-any.whl.metadata\n",
            "  Using cached google_auth-2.23.4-py2.py3-none-any.whl.metadata (4.7 kB)\n",
            "Collecting google-auth-oauthlib<2,>=0.5 (from tensorboard<2.16,>=2.15->tensorflow-macos==2.15.0->tensorflow)\n",
            "  Obtaining dependency information for google-auth-oauthlib<2,>=0.5 from https://files.pythonhosted.org/packages/ce/33/a907b4b67245647746dde8d61e1643ef5d210c88e090d491efd89eff9f95/google_auth_oauthlib-1.1.0-py2.py3-none-any.whl.metadata\n",
            "  Downloading google_auth_oauthlib-1.1.0-py2.py3-none-any.whl.metadata (2.7 kB)\n",
            "Requirement already satisfied: markdown>=2.6.8 in /Users/luizeduardovedoato/anaconda3/lib/python3.11/site-packages (from tensorboard<2.16,>=2.15->tensorflow-macos==2.15.0->tensorflow) (3.4.1)\n",
            "Collecting protobuf!=4.21.0,!=4.21.1,!=4.21.2,!=4.21.3,!=4.21.4,!=4.21.5,<5.0.0dev,>=3.20.3 (from tensorflow-macos==2.15.0->tensorflow)\n",
            "  Obtaining dependency information for protobuf!=4.21.0,!=4.21.1,!=4.21.2,!=4.21.3,!=4.21.4,!=4.21.5,<5.0.0dev,>=3.20.3 from https://files.pythonhosted.org/packages/cb/d3/a164038605494d49acc4f9cda1c0bc200b96382c53edd561387263bb181d/protobuf-4.23.4-cp37-abi3-macosx_10_9_universal2.whl.metadata\n",
            "  Downloading protobuf-4.23.4-cp37-abi3-macosx_10_9_universal2.whl.metadata (540 bytes)\n",
            "Requirement already satisfied: requests<3,>=2.21.0 in /Users/luizeduardovedoato/anaconda3/lib/python3.11/site-packages (from tensorboard<2.16,>=2.15->tensorflow-macos==2.15.0->tensorflow) (2.31.0)\n",
            "Collecting tensorboard-data-server<0.8.0,>=0.7.0 (from tensorboard<2.16,>=2.15->tensorflow-macos==2.15.0->tensorflow)\n",
            "  Obtaining dependency information for tensorboard-data-server<0.8.0,>=0.7.0 from https://files.pythonhosted.org/packages/7a/13/e503968fefabd4c6b2650af21e110aa8466fe21432cd7c43a84577a89438/tensorboard_data_server-0.7.2-py3-none-any.whl.metadata\n",
            "  Using cached tensorboard_data_server-0.7.2-py3-none-any.whl.metadata (1.1 kB)\n",
            "Requirement already satisfied: werkzeug>=1.0.1 in /Users/luizeduardovedoato/anaconda3/lib/python3.11/site-packages (from tensorboard<2.16,>=2.15->tensorflow-macos==2.15.0->tensorflow) (2.2.3)\n",
            "Collecting cachetools<6.0,>=2.0.0 (from google-auth<3,>=1.6.3->tensorboard<2.16,>=2.15->tensorflow-macos==2.15.0->tensorflow)\n",
            "  Obtaining dependency information for cachetools<6.0,>=2.0.0 from https://files.pythonhosted.org/packages/a2/91/2d843adb9fbd911e0da45fbf6f18ca89d07a087c3daa23e955584f90ebf4/cachetools-5.3.2-py3-none-any.whl.metadata\n",
            "  Using cached cachetools-5.3.2-py3-none-any.whl.metadata (5.2 kB)\n",
            "Requirement already satisfied: pyasn1-modules>=0.2.1 in /Users/luizeduardovedoato/anaconda3/lib/python3.11/site-packages (from google-auth<3,>=1.6.3->tensorboard<2.16,>=2.15->tensorflow-macos==2.15.0->tensorflow) (0.2.8)\n",
            "Collecting rsa<5,>=3.1.4 (from google-auth<3,>=1.6.3->tensorboard<2.16,>=2.15->tensorflow-macos==2.15.0->tensorflow)\n",
            "  Using cached rsa-4.9-py3-none-any.whl (34 kB)\n",
            "Collecting requests-oauthlib>=0.7.0 (from google-auth-oauthlib<2,>=0.5->tensorboard<2.16,>=2.15->tensorflow-macos==2.15.0->tensorflow)\n",
            "  Using cached requests_oauthlib-1.3.1-py2.py3-none-any.whl (23 kB)\n",
            "Requirement already satisfied: charset-normalizer<4,>=2 in /Users/luizeduardovedoato/anaconda3/lib/python3.11/site-packages (from requests<3,>=2.21.0->tensorboard<2.16,>=2.15->tensorflow-macos==2.15.0->tensorflow) (2.0.4)\n",
            "Requirement already satisfied: idna<4,>=2.5 in /Users/luizeduardovedoato/anaconda3/lib/python3.11/site-packages (from requests<3,>=2.21.0->tensorboard<2.16,>=2.15->tensorflow-macos==2.15.0->tensorflow) (3.4)\n",
            "Requirement already satisfied: urllib3<3,>=1.21.1 in /Users/luizeduardovedoato/anaconda3/lib/python3.11/site-packages (from requests<3,>=2.21.0->tensorboard<2.16,>=2.15->tensorflow-macos==2.15.0->tensorflow) (1.26.16)\n",
            "Requirement already satisfied: certifi>=2017.4.17 in /Users/luizeduardovedoato/anaconda3/lib/python3.11/site-packages (from requests<3,>=2.21.0->tensorboard<2.16,>=2.15->tensorflow-macos==2.15.0->tensorflow) (2023.7.22)\n",
            "Requirement already satisfied: MarkupSafe>=2.1.1 in /Users/luizeduardovedoato/anaconda3/lib/python3.11/site-packages (from werkzeug>=1.0.1->tensorboard<2.16,>=2.15->tensorflow-macos==2.15.0->tensorflow) (2.1.1)\n",
            "Requirement already satisfied: pyasn1<0.5.0,>=0.4.6 in /Users/luizeduardovedoato/anaconda3/lib/python3.11/site-packages (from pyasn1-modules>=0.2.1->google-auth<3,>=1.6.3->tensorboard<2.16,>=2.15->tensorflow-macos==2.15.0->tensorflow) (0.4.8)\n",
            "Collecting oauthlib>=3.0.0 (from requests-oauthlib>=0.7.0->google-auth-oauthlib<2,>=0.5->tensorboard<2.16,>=2.15->tensorflow-macos==2.15.0->tensorflow)\n",
            "  Using cached oauthlib-3.2.2-py3-none-any.whl (151 kB)\n",
            "Downloading tensorflow-2.15.0-cp311-cp311-macosx_12_0_arm64.whl (2.1 kB)\n",
            "Downloading tensorflow_macos-2.15.0-cp311-cp311-macosx_12_0_arm64.whl (208.8 MB)\n",
            "\u001b[2K   \u001b[90m━━━━━━━━━━━━━━━━━━━━━━━━━━━━━━━━━━━━━━━━\u001b[0m \u001b[32m208.8/208.8 MB\u001b[0m \u001b[31m2.7 MB/s\u001b[0m eta \u001b[36m0:00:00\u001b[0m00:01\u001b[0m00:02\u001b[0m\n",
            "\u001b[?25hUsing cached absl_py-2.0.0-py3-none-any.whl (130 kB)\n",
            "Using cached flatbuffers-23.5.26-py2.py3-none-any.whl (26 kB)\n",
            "Downloading grpcio-1.59.3-cp311-cp311-macosx_10_10_universal2.whl (9.6 MB)\n",
            "\u001b[2K   \u001b[90m━━━━━━━━━━━━━━━━━━━━━━━━━━━━━━━━━━━━━━━━\u001b[0m \u001b[32m9.6/9.6 MB\u001b[0m \u001b[31m2.6 MB/s\u001b[0m eta \u001b[36m0:00:00\u001b[0m00:01\u001b[0m00:01\u001b[0m0m\n",
            "\u001b[?25hDownloading keras-2.15.0-py3-none-any.whl (1.7 MB)\n",
            "\u001b[2K   \u001b[90m━━━━━━━━━━━━━━━━━━━━━━━━━━━━━━━━━━━━━━━━\u001b[0m \u001b[32m1.7/1.7 MB\u001b[0m \u001b[31m4.0 MB/s\u001b[0m eta \u001b[36m0:00:00\u001b[0m00:01\u001b[0m00:01\u001b[0m\n",
            "\u001b[?25hUsing cached libclang-16.0.6-py2.py3-none-macosx_11_0_arm64.whl (20.6 MB)\n",
            "Using cached ml_dtypes-0.2.0-cp311-cp311-macosx_10_9_universal2.whl (1.2 MB)\n",
            "Downloading tensorboard-2.15.1-py3-none-any.whl (5.5 MB)\n",
            "\u001b[2K   \u001b[90m━━━━━━━━━━━━━━━━━━━━━━━━━━━━━━━━━━━━━━━━\u001b[0m \u001b[32m5.5/5.5 MB\u001b[0m \u001b[31m4.2 MB/s\u001b[0m eta \u001b[36m0:00:00\u001b[0m00:01\u001b[0m00:01\u001b[0m\n",
            "\u001b[?25hDownloading protobuf-4.23.4-cp37-abi3-macosx_10_9_universal2.whl (400 kB)\n",
            "\u001b[2K   \u001b[90m━━━━━━━━━━━━━━━━━━━━━━━━━━━━━━━━━━━━━━━━\u001b[0m \u001b[32m400.3/400.3 kB\u001b[0m \u001b[31m4.5 MB/s\u001b[0m eta \u001b[36m0:00:00\u001b[0ma \u001b[36m0:00:01\u001b[0m\n",
            "\u001b[?25hDownloading tensorflow_estimator-2.15.0-py2.py3-none-any.whl (441 kB)\n",
            "\u001b[2K   \u001b[90m━━━━━━━━━━━━━━━━━━━━━━━━━━━━━━━━━━━━━━━━\u001b[0m \u001b[32m442.0/442.0 kB\u001b[0m \u001b[31m5.3 MB/s\u001b[0m eta \u001b[36m0:00:00\u001b[0ma \u001b[36m0:00:01\u001b[0m\n",
            "\u001b[?25hUsing cached tensorflow_io_gcs_filesystem-0.34.0-cp311-cp311-macosx_12_0_arm64.whl (1.9 MB)\n",
            "Using cached google_auth-2.23.4-py2.py3-none-any.whl (183 kB)\n",
            "Downloading google_auth_oauthlib-1.1.0-py2.py3-none-any.whl (19 kB)\n",
            "Using cached tensorboard_data_server-0.7.2-py3-none-any.whl (2.4 kB)\n",
            "Using cached cachetools-5.3.2-py3-none-any.whl (9.3 kB)\n",
            "Installing collected packages: libclang, flatbuffers, termcolor, tensorflow-io-gcs-filesystem, tensorflow-estimator, tensorboard-data-server, rsa, protobuf, opt-einsum, oauthlib, ml-dtypes, keras, grpcio, google-pasta, gast, cachetools, astunparse, absl-py, requests-oauthlib, google-auth, google-auth-oauthlib, tensorboard, tensorflow-macos, tensorflow\n",
            "Successfully installed absl-py-2.0.0 astunparse-1.6.3 cachetools-5.3.2 flatbuffers-23.5.26 gast-0.5.4 google-auth-2.23.4 google-auth-oauthlib-1.1.0 google-pasta-0.2.0 grpcio-1.59.3 keras-2.15.0 libclang-16.0.6 ml-dtypes-0.2.0 oauthlib-3.2.2 opt-einsum-3.3.0 protobuf-4.23.4 requests-oauthlib-1.3.1 rsa-4.9 tensorboard-2.15.1 tensorboard-data-server-0.7.2 tensorflow-2.15.0 tensorflow-estimator-2.15.0 tensorflow-io-gcs-filesystem-0.34.0 tensorflow-macos-2.15.0 termcolor-2.3.0\n"
          ]
        }
      ],
      "source": [
        "!pip install tensorflow"
      ]
    },
    {
      "cell_type": "code",
      "execution_count": 9,
      "metadata": {
        "id": "tHGfNfAtMU6C"
      },
      "outputs": [],
      "source": [
        "import tensorflow as tf\n",
        "import seaborn as sns\n",
        "import pandas as pd\n",
        "import numpy as np\n",
        "import matplotlib.pyplot as plt"
      ]
    },
    {
      "cell_type": "markdown",
      "metadata": {
        "id": "qX3bk6vfYWTf"
      },
      "source": [
        "**Import Datasets**"
      ]
    },
    {
      "cell_type": "code",
      "execution_count": 10,
      "metadata": {
        "id": "IzGZR_WXYelA"
      },
      "outputs": [],
      "source": [
        "temp_df = pd.read_csv('/Users/luizeduardovedoato/DEV/CtoF/Celsius+to+Fahrenheit.csv')\n",
        "temp_df.reset_index(drop=True, inplace=True)"
      ]
    },
    {
      "cell_type": "code",
      "execution_count": 11,
      "metadata": {
        "colab": {
          "base_uri": "https://localhost:8080/",
          "height": 297
        },
        "id": "y_5kr9MtYw8t",
        "outputId": "c9fd3c41-60a0-4ca8-c1b5-a82d2fbb6f80"
      },
      "outputs": [
        {
          "data": {
            "text/html": [
              "<div>\n",
              "<style scoped>\n",
              "    .dataframe tbody tr th:only-of-type {\n",
              "        vertical-align: middle;\n",
              "    }\n",
              "\n",
              "    .dataframe tbody tr th {\n",
              "        vertical-align: top;\n",
              "    }\n",
              "\n",
              "    .dataframe thead th {\n",
              "        text-align: right;\n",
              "    }\n",
              "</style>\n",
              "<table border=\"1\" class=\"dataframe\">\n",
              "  <thead>\n",
              "    <tr style=\"text-align: right;\">\n",
              "      <th></th>\n",
              "      <th>Celsius</th>\n",
              "      <th>Fahrenheit</th>\n",
              "    </tr>\n",
              "  </thead>\n",
              "  <tbody>\n",
              "    <tr>\n",
              "      <th>count</th>\n",
              "      <td>30.000000</td>\n",
              "      <td>30.000000</td>\n",
              "    </tr>\n",
              "    <tr>\n",
              "      <th>mean</th>\n",
              "      <td>2.000000</td>\n",
              "      <td>35.600000</td>\n",
              "    </tr>\n",
              "    <tr>\n",
              "      <th>std</th>\n",
              "      <td>22.780815</td>\n",
              "      <td>41.005466</td>\n",
              "    </tr>\n",
              "    <tr>\n",
              "      <th>min</th>\n",
              "      <td>-50.000000</td>\n",
              "      <td>-58.000000</td>\n",
              "    </tr>\n",
              "    <tr>\n",
              "      <th>25%</th>\n",
              "      <td>-6.750000</td>\n",
              "      <td>19.850000</td>\n",
              "    </tr>\n",
              "    <tr>\n",
              "      <th>50%</th>\n",
              "      <td>0.500000</td>\n",
              "      <td>32.900000</td>\n",
              "    </tr>\n",
              "    <tr>\n",
              "      <th>75%</th>\n",
              "      <td>7.750000</td>\n",
              "      <td>45.950000</td>\n",
              "    </tr>\n",
              "    <tr>\n",
              "      <th>max</th>\n",
              "      <td>60.000000</td>\n",
              "      <td>140.000000</td>\n",
              "    </tr>\n",
              "  </tbody>\n",
              "</table>\n",
              "</div>"
            ],
            "text/plain": [
              "         Celsius  Fahrenheit\n",
              "count  30.000000   30.000000\n",
              "mean    2.000000   35.600000\n",
              "std    22.780815   41.005466\n",
              "min   -50.000000  -58.000000\n",
              "25%    -6.750000   19.850000\n",
              "50%     0.500000   32.900000\n",
              "75%     7.750000   45.950000\n",
              "max    60.000000  140.000000"
            ]
          },
          "execution_count": 11,
          "metadata": {},
          "output_type": "execute_result"
        }
      ],
      "source": [
        "temp_df.describe()"
      ]
    },
    {
      "cell_type": "code",
      "execution_count": 12,
      "metadata": {
        "colab": {
          "base_uri": "https://localhost:8080/"
        },
        "id": "Ckowi6i_Y_ME",
        "outputId": "425a990c-cadd-464d-b4ee-6ef0a97c3556"
      },
      "outputs": [
        {
          "name": "stdout",
          "output_type": "stream",
          "text": [
            "<class 'pandas.core.frame.DataFrame'>\n",
            "RangeIndex: 30 entries, 0 to 29\n",
            "Data columns (total 2 columns):\n",
            " #   Column      Non-Null Count  Dtype  \n",
            "---  ------      --------------  -----  \n",
            " 0   Celsius     30 non-null     int64  \n",
            " 1   Fahrenheit  30 non-null     float64\n",
            "dtypes: float64(1), int64(1)\n",
            "memory usage: 612.0 bytes\n"
          ]
        }
      ],
      "source": [
        "temp_df.info()"
      ]
    },
    {
      "cell_type": "markdown",
      "metadata": {
        "id": "27t4PYmGZHzL"
      },
      "source": [
        "**Visualize Dataset**"
      ]
    },
    {
      "cell_type": "code",
      "execution_count": 13,
      "metadata": {
        "colab": {
          "base_uri": "https://localhost:8080/",
          "height": 466
        },
        "id": "L0sPop0GZpaQ",
        "outputId": "003a6d12-15c1-47f5-d88a-9528e6f0d51b"
      },
      "outputs": [
        {
          "data": {
            "text/plain": [
              "<Axes: xlabel='Celsius', ylabel='Fahrenheit'>"
            ]
          },
          "execution_count": 13,
          "metadata": {},
          "output_type": "execute_result"
        },
        {
          "data": {
            "image/png": "[encoded data removed]",
            "text/plain": [
              "<Figure size 640x480 with 1 Axes>"
            ]
          },
          "metadata": {},
          "output_type": "display_data"
        }
      ],
      "source": [
        "sns.scatterplot(x = temp_df['Celsius'],y = temp_df['Fahrenheit'])"
      ]
    },
    {
      "cell_type": "markdown",
      "metadata": {
        "id": "WRCuYGF-a8Ps"
      },
      "source": [
        "**Create testing and training dataset**"
      ]
    },
    {
      "cell_type": "code",
      "execution_count": 14,
      "metadata": {
        "id": "1PfhUoJRbAYf"
      },
      "outputs": [],
      "source": [
        "X_train = temp_df['Celsius']\n",
        "Y_train = temp_df['Fahrenheit']"
      ]
    },
    {
      "cell_type": "markdown",
      "metadata": {
        "id": "6x02xSNEbMEA"
      },
      "source": [
        "**Build and trai the model**"
      ]
    },
    {
      "cell_type": "code",
      "execution_count": 15,
      "metadata": {
        "colab": {
          "base_uri": "https://localhost:8080/"
        },
        "id": "sVmMbCFQbQIq",
        "outputId": "2cb3fe3b-07b2-40c1-c3a5-1055e93fc358"
      },
      "outputs": [
        {
          "data": {
            "text/plain": [
              "(30,)"
            ]
          },
          "execution_count": 15,
          "metadata": {},
          "output_type": "execute_result"
        }
      ],
      "source": [
        "X_train.shape"
      ]
    },
    {
      "cell_type": "code",
      "execution_count": 16,
      "metadata": {
        "colab": {
          "base_uri": "https://localhost:8080/"
        },
        "id": "eMrjOj2xbS8M",
        "outputId": "04f38d3c-b42d-405f-84dc-d92849d8efd4"
      },
      "outputs": [
        {
          "data": {
            "text/plain": [
              "(30,)"
            ]
          },
          "execution_count": 16,
          "metadata": {},
          "output_type": "execute_result"
        }
      ],
      "source": [
        "Y_train.shape"
      ]
    },
    {
      "cell_type": "code",
      "execution_count": 17,
      "metadata": {
        "id": "5TS_TppvbVoU"
      },
      "outputs": [],
      "source": [
        "model = tf.keras.Sequential()\n",
        "model.add(tf.keras.layers.Dense(units = 1, input_shape = [1]))"
      ]
    },
    {
      "cell_type": "code",
      "execution_count": 18,
      "metadata": {
        "colab": {
          "base_uri": "https://localhost:8080/"
        },
        "id": "lAUNZNdOcAZ8",
        "outputId": "209b1025-a121-42a4-8a80-56882f7df308"
      },
      "outputs": [
        {
          "name": "stdout",
          "output_type": "stream",
          "text": [
            "Model: \"sequential\"\n",
            "_________________________________________________________________\n",
            " Layer (type)                Output Shape              Param #   \n",
            "=================================================================\n",
            " dense (Dense)               (None, 1)                 2         \n",
            "                                                                 \n",
            "=================================================================\n",
            "Total params: 2 (8.00 Byte)\n",
            "Trainable params: 2 (8.00 Byte)\n",
            "Non-trainable params: 0 (0.00 Byte)\n",
            "_________________________________________________________________\n"
          ]
        }
      ],
      "source": [
        "model.summary()"
      ]
    },
    {
      "cell_type": "code",
      "execution_count": 19,
      "metadata": {
        "id": "tRehzZRNcY6O"
      },
      "outputs": [
        {
          "name": "stderr",
          "output_type": "stream",
          "text": [
            "WARNING:absl:At this time, the v2.11+ optimizer `tf.keras.optimizers.Adam` runs slowly on M1/M2 Macs, please use the legacy Keras optimizer instead, located at `tf.keras.optimizers.legacy.Adam`.\n"
          ]
        }
      ],
      "source": [
        "model.compile(optimizer=tf.keras.optimizers.Adam(0.5), loss='mean_squared_error')"
      ]
    },
    {
      "cell_type": "code",
      "execution_count": 20,
      "metadata": {
        "colab": {
          "base_uri": "https://localhost:8080/"
        },
        "id": "8d0cTJVYddW4",
        "outputId": "6eda0fe0-4e28-4117-8e5a-337c9a989856"
      },
      "outputs": [
        {
          "name": "stdout",
          "output_type": "stream",
          "text": [
            "Epoch 1/200\n",
            "1/1 [==============================] - 0s 218ms/step - loss: 1706.9768\n",
            "Epoch 2/200\n",
            "1/1 [==============================] - 0s 2ms/step - loss: 1209.4142\n",
            "Epoch 3/200\n",
            "1/1 [==============================] - 0s 2ms/step - loss: 971.6355\n",
            "Epoch 4/200\n",
            "1/1 [==============================] - 0s 2ms/step - loss: 947.7033\n",
            "Epoch 5/200\n",
            "1/1 [==============================] - 0s 2ms/step - loss: 1022.9189\n",
            "Epoch 6/200\n",
            "1/1 [==============================] - 0s 2ms/step - loss: 1070.5295\n",
            "Epoch 7/200\n",
            "1/1 [==============================] - 0s 2ms/step - loss: 1042.3947\n",
            "Epoch 8/200\n",
            "1/1 [==============================] - 0s 2ms/step - loss: 958.4457\n",
            "Epoch 9/200\n",
            "1/1 [==============================] - 0s 2ms/step - loss: 858.1952\n",
            "Epoch 10/200\n",
            "1/1 [==============================] - 0s 2ms/step - loss: 775.0265\n",
            "Epoch 11/200\n",
            "1/1 [==============================] - 0s 2ms/step - loss: 726.7278\n",
            "Epoch 12/200\n",
            "1/1 [==============================] - 0s 2ms/step - loss: 712.8214\n",
            "Epoch 13/200\n",
            "1/1 [==============================] - 0s 2ms/step - loss: 717.7750\n",
            "Epoch 14/200\n",
            "1/1 [==============================] - 0s 2ms/step - loss: 720.6418\n",
            "Epoch 15/200\n",
            "1/1 [==============================] - 0s 2ms/step - loss: 706.4988\n",
            "Epoch 16/200\n",
            "1/1 [==============================] - 0s 2ms/step - loss: 672.3255\n",
            "Epoch 17/200\n",
            "1/1 [==============================] - 0s 2ms/step - loss: 625.2945\n",
            "Epoch 18/200\n",
            "1/1 [==============================] - 0s 3ms/step - loss: 577.0639\n",
            "Epoch 19/200\n",
            "1/1 [==============================] - 0s 2ms/step - loss: 537.9288\n",
            "Epoch 20/200\n",
            "1/1 [==============================] - 0s 2ms/step - loss: 512.7988\n",
            "Epoch 21/200\n",
            "1/1 [==============================] - 0s 2ms/step - loss: 499.8916\n",
            "Epoch 22/200\n",
            "1/1 [==============================] - 0s 2ms/step - loss: 492.4416\n",
            "Epoch 23/200\n",
            "1/1 [==============================] - 0s 2ms/step - loss: 482.5868\n",
            "Epoch 24/200\n",
            "1/1 [==============================] - 0s 2ms/step - loss: 465.3158\n",
            "Epoch 25/200\n",
            "1/1 [==============================] - 0s 2ms/step - loss: 440.3634\n",
            "Epoch 26/200\n",
            "1/1 [==============================] - 0s 2ms/step - loss: 411.4605\n",
            "Epoch 27/200\n",
            "1/1 [==============================] - 0s 2ms/step - loss: 383.8757\n",
            "Epoch 28/200\n",
            "1/1 [==============================] - 0s 2ms/step - loss: 361.7072\n",
            "Epoch 29/200\n",
            "1/1 [==============================] - 0s 2ms/step - loss: 346.1226\n",
            "Epoch 30/200\n",
            "1/1 [==============================] - 0s 2ms/step - loss: 335.2016\n",
            "Epoch 31/200\n",
            "1/1 [==============================] - 0s 2ms/step - loss: 325.3106\n",
            "Epoch 32/200\n",
            "1/1 [==============================] - 0s 2ms/step - loss: 313.1836\n",
            "Epoch 33/200\n",
            "1/1 [==============================] - 0s 2ms/step - loss: 297.5295\n",
            "Epoch 34/200\n",
            "1/1 [==============================] - 0s 2ms/step - loss: 279.3739\n",
            "Epoch 35/200\n",
            "1/1 [==============================] - 0s 2ms/step - loss: 261.1534\n",
            "Epoch 36/200\n",
            "1/1 [==============================] - 0s 2ms/step - loss: 245.2329\n",
            "Epoch 37/200\n",
            "1/1 [==============================] - 0s 2ms/step - loss: 232.6783\n",
            "Epoch 38/200\n",
            "1/1 [==============================] - 0s 2ms/step - loss: 222.8767\n",
            "Epoch 39/200\n",
            "1/1 [==============================] - 0s 2ms/step - loss: 214.1021\n",
            "Epoch 40/200\n",
            "1/1 [==============================] - 0s 2ms/step - loss: 204.6139\n",
            "Epoch 41/200\n",
            "1/1 [==============================] - 0s 2ms/step - loss: 193.6113\n",
            "Epoch 42/200\n",
            "1/1 [==============================] - 0s 2ms/step - loss: 181.5253\n",
            "Epoch 43/200\n",
            "1/1 [==============================] - 0s 2ms/step - loss: 169.5777\n",
            "Epoch 44/200\n",
            "1/1 [==============================] - 0s 2ms/step - loss: 158.9645\n",
            "Epoch 45/200\n",
            "1/1 [==============================] - 0s 2ms/step - loss: 150.1735\n",
            "Epoch 46/200\n",
            "1/1 [==============================] - 0s 2ms/step - loss: 142.8035\n",
            "Epoch 47/200\n",
            "1/1 [==============================] - 0s 2ms/step - loss: 135.9250\n",
            "Epoch 48/200\n",
            "1/1 [==============================] - 0s 2ms/step - loss: 128.7006\n",
            "Epoch 49/200\n",
            "1/1 [==============================] - 0s 2ms/step - loss: 120.8608\n",
            "Epoch 50/200\n",
            "1/1 [==============================] - 0s 2ms/step - loss: 112.7697\n",
            "Epoch 51/200\n",
            "1/1 [==============================] - 0s 2ms/step - loss: 105.0978\n",
            "Epoch 52/200\n",
            "1/1 [==============================] - 0s 2ms/step - loss: 98.3595\n",
            "Epoch 53/200\n",
            "1/1 [==============================] - 0s 2ms/step - loss: 92.6140\n",
            "Epoch 54/200\n",
            "1/1 [==============================] - 0s 2ms/step - loss: 87.4922\n",
            "Epoch 55/200\n",
            "1/1 [==============================] - 0s 2ms/step - loss: 82.4877\n",
            "Epoch 56/200\n",
            "1/1 [==============================] - 0s 2ms/step - loss: 77.2908\n",
            "Epoch 57/200\n",
            "1/1 [==============================] - 0s 2ms/step - loss: 71.9476\n",
            "Epoch 58/200\n",
            "1/1 [==============================] - 0s 2ms/step - loss: 66.7667\n",
            "Epoch 59/200\n",
            "1/1 [==============================] - 0s 2ms/step - loss: 62.0708\n",
            "Epoch 60/200\n",
            "1/1 [==============================] - 0s 2ms/step - loss: 57.9772\n",
            "Epoch 61/200\n",
            "1/1 [==============================] - 0s 2ms/step - loss: 54.3469\n",
            "Epoch 62/200\n",
            "1/1 [==============================] - 0s 2ms/step - loss: 50.9107\n",
            "Epoch 63/200\n",
            "1/1 [==============================] - 0s 2ms/step - loss: 47.4636\n",
            "Epoch 64/200\n",
            "1/1 [==============================] - 0s 2ms/step - loss: 43.9859\n",
            "Epoch 65/200\n",
            "1/1 [==============================] - 0s 2ms/step - loss: 40.6201\n",
            "Epoch 66/200\n",
            "1/1 [==============================] - 0s 23ms/step - loss: 37.5412\n",
            "Epoch 67/200\n",
            "1/1 [==============================] - 0s 2ms/step - loss: 34.8247\n",
            "Epoch 68/200\n",
            "1/1 [==============================] - 0s 3ms/step - loss: 32.4043\n",
            "Epoch 69/200\n",
            "1/1 [==============================] - 0s 9ms/step - loss: 30.1356\n",
            "Epoch 70/200\n",
            "1/1 [==============================] - 0s 2ms/step - loss: 27.9047\n",
            "Epoch 71/200\n",
            "1/1 [==============================] - 0s 3ms/step - loss: 25.6979\n",
            "Epoch 72/200\n",
            "1/1 [==============================] - 0s 3ms/step - loss: 23.5899\n",
            "Epoch 73/200\n",
            "1/1 [==============================] - 0s 4ms/step - loss: 21.6702\n",
            "Epoch 74/200\n",
            "1/1 [==============================] - 0s 4ms/step - loss: 19.9707\n",
            "Epoch 75/200\n",
            "1/1 [==============================] - 0s 3ms/step - loss: 18.4470\n",
            "Epoch 76/200\n",
            "1/1 [==============================] - 0s 6ms/step - loss: 17.0187\n",
            "Epoch 77/200\n",
            "1/1 [==============================] - 0s 4ms/step - loss: 15.6300\n",
            "Epoch 78/200\n",
            "1/1 [==============================] - 0s 2ms/step - loss: 14.2821\n",
            "Epoch 79/200\n",
            "1/1 [==============================] - 0s 2ms/step - loss: 13.0187\n",
            "Epoch 80/200\n",
            "1/1 [==============================] - 0s 3ms/step - loss: 11.8819\n",
            "Epoch 81/200\n",
            "1/1 [==============================] - 0s 3ms/step - loss: 10.8760\n",
            "Epoch 82/200\n",
            "1/1 [==============================] - 0s 2ms/step - loss: 9.9673\n",
            "Epoch 83/200\n",
            "1/1 [==============================] - 0s 2ms/step - loss: 9.1118\n",
            "Epoch 84/200\n",
            "1/1 [==============================] - 0s 2ms/step - loss: 8.2875\n",
            "Epoch 85/200\n",
            "1/1 [==============================] - 0s 4ms/step - loss: 7.5042\n",
            "Epoch 86/200\n",
            "1/1 [==============================] - 0s 3ms/step - loss: 6.7869\n",
            "Epoch 87/200\n",
            "1/1 [==============================] - 0s 4ms/step - loss: 6.1508\n",
            "Epoch 88/200\n",
            "1/1 [==============================] - 0s 2ms/step - loss: 5.5876\n",
            "Epoch 89/200\n",
            "1/1 [==============================] - 0s 3ms/step - loss: 5.0733\n",
            "Epoch 90/200\n",
            "1/1 [==============================] - 0s 4ms/step - loss: 4.5870\n",
            "Epoch 91/200\n",
            "1/1 [==============================] - 0s 3ms/step - loss: 4.1248\n",
            "Epoch 92/200\n",
            "1/1 [==============================] - 0s 3ms/step - loss: 3.6970\n",
            "Epoch 93/200\n",
            "1/1 [==============================] - 0s 4ms/step - loss: 3.3154\n",
            "Epoch 94/200\n",
            "1/1 [==============================] - 0s 3ms/step - loss: 2.9810\n",
            "Epoch 95/200\n",
            "1/1 [==============================] - 0s 3ms/step - loss: 2.6828\n",
            "Epoch 96/200\n",
            "1/1 [==============================] - 0s 3ms/step - loss: 2.4069\n",
            "Epoch 97/200\n",
            "1/1 [==============================] - 0s 7ms/step - loss: 2.1467\n",
            "Epoch 98/200\n",
            "1/1 [==============================] - 0s 4ms/step - loss: 1.9050\n",
            "Epoch 99/200\n",
            "1/1 [==============================] - 0s 20ms/step - loss: 1.6887\n",
            "Epoch 100/200\n",
            "1/1 [==============================] - 0s 9ms/step - loss: 1.5005\n",
            "Epoch 101/200\n",
            "1/1 [==============================] - 0s 8ms/step - loss: 1.3358\n",
            "Epoch 102/200\n",
            "1/1 [==============================] - 0s 5ms/step - loss: 1.1866\n",
            "Epoch 103/200\n",
            "1/1 [==============================] - 0s 8ms/step - loss: 1.0475\n",
            "Epoch 104/200\n",
            "1/1 [==============================] - 0s 15ms/step - loss: 0.9185\n",
            "Epoch 105/200\n",
            "1/1 [==============================] - 0s 8ms/step - loss: 0.8032\n",
            "Epoch 106/200\n",
            "1/1 [==============================] - 0s 14ms/step - loss: 0.7037\n",
            "Epoch 107/200\n",
            "1/1 [==============================] - 0s 4ms/step - loss: 0.6182\n",
            "Epoch 108/200\n",
            "1/1 [==============================] - 0s 4ms/step - loss: 0.5422\n",
            "Epoch 109/200\n",
            "1/1 [==============================] - 0s 3ms/step - loss: 0.4723\n",
            "Epoch 110/200\n",
            "1/1 [==============================] - 0s 5ms/step - loss: 0.4077\n",
            "Epoch 111/200\n",
            "1/1 [==============================] - 0s 3ms/step - loss: 0.3503\n",
            "Epoch 112/200\n",
            "1/1 [==============================] - 0s 3ms/step - loss: 0.3015\n",
            "Epoch 113/200\n",
            "1/1 [==============================] - 0s 3ms/step - loss: 0.2604\n",
            "Epoch 114/200\n",
            "1/1 [==============================] - 0s 3ms/step - loss: 0.2247\n",
            "Epoch 115/200\n",
            "1/1 [==============================] - 0s 3ms/step - loss: 0.1921\n",
            "Epoch 116/200\n",
            "1/1 [==============================] - 0s 3ms/step - loss: 0.1622\n",
            "Epoch 117/200\n",
            "1/1 [==============================] - 0s 4ms/step - loss: 0.1360\n",
            "Epoch 118/200\n",
            "1/1 [==============================] - 0s 3ms/step - loss: 0.1142\n",
            "Epoch 119/200\n",
            "1/1 [==============================] - 0s 3ms/step - loss: 0.0963\n",
            "Epoch 120/200\n",
            "1/1 [==============================] - 0s 5ms/step - loss: 0.0812\n",
            "Epoch 121/200\n",
            "1/1 [==============================] - 0s 5ms/step - loss: 0.0675\n",
            "Epoch 122/200\n",
            "1/1 [==============================] - 0s 4ms/step - loss: 0.0551\n",
            "Epoch 123/200\n",
            "1/1 [==============================] - 0s 4ms/step - loss: 0.0444\n",
            "Epoch 124/200\n",
            "1/1 [==============================] - 0s 4ms/step - loss: 0.0358\n",
            "Epoch 125/200\n",
            "1/1 [==============================] - 0s 5ms/step - loss: 0.0292\n",
            "Epoch 126/200\n",
            "1/1 [==============================] - 0s 4ms/step - loss: 0.0237\n",
            "Epoch 127/200\n",
            "1/1 [==============================] - 0s 4ms/step - loss: 0.0188\n",
            "Epoch 128/200\n",
            "1/1 [==============================] - 0s 5ms/step - loss: 0.0143\n",
            "Epoch 129/200\n",
            "1/1 [==============================] - 0s 4ms/step - loss: 0.0106\n",
            "Epoch 130/200\n",
            "1/1 [==============================] - 0s 5ms/step - loss: 0.0079\n",
            "Epoch 131/200\n",
            "1/1 [==============================] - 0s 4ms/step - loss: 0.0061\n",
            "Epoch 132/200\n",
            "1/1 [==============================] - 0s 4ms/step - loss: 0.0046\n",
            "Epoch 133/200\n",
            "1/1 [==============================] - 0s 4ms/step - loss: 0.0033\n",
            "Epoch 134/200\n",
            "1/1 [==============================] - 0s 4ms/step - loss: 0.0020\n",
            "Epoch 135/200\n",
            "1/1 [==============================] - 0s 25ms/step - loss: 0.0011\n",
            "Epoch 136/200\n",
            "1/1 [==============================] - 0s 4ms/step - loss: 6.7319e-04\n",
            "Epoch 137/200\n",
            "1/1 [==============================] - 0s 9ms/step - loss: 5.0496e-04\n",
            "Epoch 138/200\n",
            "1/1 [==============================] - 0s 4ms/step - loss: 4.0170e-04\n",
            "Epoch 139/200\n",
            "1/1 [==============================] - 0s 4ms/step - loss: 2.3952e-04\n",
            "Epoch 140/200\n",
            "1/1 [==============================] - 0s 3ms/step - loss: 8.1834e-05\n",
            "Epoch 141/200\n",
            "1/1 [==============================] - 0s 3ms/step - loss: 5.7750e-05\n",
            "Epoch 142/200\n",
            "1/1 [==============================] - 0s 3ms/step - loss: 2.0069e-04\n",
            "Epoch 143/200\n",
            "1/1 [==============================] - 0s 3ms/step - loss: 4.1420e-04\n",
            "Epoch 144/200\n",
            "1/1 [==============================] - 0s 3ms/step - loss: 5.7789e-04\n",
            "Epoch 145/200\n",
            "1/1 [==============================] - 0s 4ms/step - loss: 6.6122e-04\n",
            "Epoch 146/200\n",
            "1/1 [==============================] - 0s 3ms/step - loss: 7.2915e-04\n",
            "Epoch 147/200\n",
            "1/1 [==============================] - 0s 4ms/step - loss: 8.5183e-04\n",
            "Epoch 148/200\n",
            "1/1 [==============================] - 0s 3ms/step - loss: 0.0010\n",
            "Epoch 149/200\n",
            "1/1 [==============================] - 0s 5ms/step - loss: 0.0012\n",
            "Epoch 150/200\n",
            "1/1 [==============================] - 0s 4ms/step - loss: 0.0013\n",
            "Epoch 151/200\n",
            "1/1 [==============================] - 0s 6ms/step - loss: 0.0013\n",
            "Epoch 152/200\n",
            "1/1 [==============================] - 0s 3ms/step - loss: 0.0014\n",
            "Epoch 153/200\n",
            "1/1 [==============================] - 0s 3ms/step - loss: 0.0014\n",
            "Epoch 154/200\n",
            "1/1 [==============================] - 0s 3ms/step - loss: 0.0015\n",
            "Epoch 155/200\n",
            "1/1 [==============================] - 0s 4ms/step - loss: 0.0015\n",
            "Epoch 156/200\n",
            "1/1 [==============================] - 0s 6ms/step - loss: 0.0015\n",
            "Epoch 157/200\n",
            "1/1 [==============================] - 0s 5ms/step - loss: 0.0015\n",
            "Epoch 158/200\n",
            "1/1 [==============================] - 0s 4ms/step - loss: 0.0015\n",
            "Epoch 159/200\n",
            "1/1 [==============================] - 0s 6ms/step - loss: 0.0015\n",
            "Epoch 160/200\n",
            "1/1 [==============================] - 0s 4ms/step - loss: 0.0014\n",
            "Epoch 161/200\n",
            "1/1 [==============================] - 0s 5ms/step - loss: 0.0014\n",
            "Epoch 162/200\n",
            "1/1 [==============================] - 0s 5ms/step - loss: 0.0013\n",
            "Epoch 163/200\n",
            "1/1 [==============================] - 0s 4ms/step - loss: 0.0013\n",
            "Epoch 164/200\n",
            "1/1 [==============================] - 0s 4ms/step - loss: 0.0012\n",
            "Epoch 165/200\n",
            "1/1 [==============================] - 0s 4ms/step - loss: 0.0012\n",
            "Epoch 166/200\n",
            "1/1 [==============================] - 0s 6ms/step - loss: 0.0011\n",
            "Epoch 167/200\n",
            "1/1 [==============================] - 0s 4ms/step - loss: 0.0010\n",
            "Epoch 168/200\n",
            "1/1 [==============================] - 0s 4ms/step - loss: 9.4871e-04\n",
            "Epoch 169/200\n",
            "1/1 [==============================] - 0s 4ms/step - loss: 8.8144e-04\n",
            "Epoch 170/200\n",
            "1/1 [==============================] - 0s 5ms/step - loss: 8.2214e-04\n",
            "Epoch 171/200\n",
            "1/1 [==============================] - 0s 9ms/step - loss: 7.6463e-04\n",
            "Epoch 172/200\n",
            "1/1 [==============================] - 0s 3ms/step - loss: 7.0364e-04\n",
            "Epoch 173/200\n",
            "1/1 [==============================] - 0s 4ms/step - loss: 6.4079e-04\n",
            "Epoch 174/200\n",
            "1/1 [==============================] - 0s 3ms/step - loss: 5.8208e-04\n",
            "Epoch 175/200\n",
            "1/1 [==============================] - 0s 3ms/step - loss: 5.3056e-04\n",
            "Epoch 176/200\n",
            "1/1 [==============================] - 0s 3ms/step - loss: 4.8385e-04\n",
            "Epoch 177/200\n",
            "1/1 [==============================] - 0s 4ms/step - loss: 4.3783e-04\n",
            "Epoch 178/200\n",
            "1/1 [==============================] - 0s 3ms/step - loss: 3.9168e-04\n",
            "Epoch 179/200\n",
            "1/1 [==============================] - 0s 3ms/step - loss: 3.4831e-04\n",
            "Epoch 180/200\n",
            "1/1 [==============================] - 0s 4ms/step - loss: 3.1032e-04\n",
            "Epoch 181/200\n",
            "1/1 [==============================] - 0s 3ms/step - loss: 2.7729e-04\n",
            "Epoch 182/200\n",
            "1/1 [==============================] - 0s 4ms/step - loss: 2.4650e-04\n",
            "Epoch 183/200\n",
            "1/1 [==============================] - 0s 3ms/step - loss: 2.1643e-04\n",
            "Epoch 184/200\n",
            "1/1 [==============================] - 0s 3ms/step - loss: 1.8825e-04\n",
            "Epoch 185/200\n",
            "1/1 [==============================] - 0s 4ms/step - loss: 1.6368e-04\n",
            "Epoch 186/200\n",
            "1/1 [==============================] - 0s 3ms/step - loss: 1.4288e-04\n",
            "Epoch 187/200\n",
            "1/1 [==============================] - 0s 4ms/step - loss: 1.2438e-04\n",
            "Epoch 188/200\n",
            "1/1 [==============================] - 0s 4ms/step - loss: 1.0685e-04\n",
            "Epoch 189/200\n",
            "1/1 [==============================] - 0s 4ms/step - loss: 9.0511e-05\n",
            "Epoch 190/200\n",
            "1/1 [==============================] - 0s 15ms/step - loss: 7.6319e-05\n",
            "Epoch 191/200\n",
            "1/1 [==============================] - 0s 14ms/step - loss: 6.4687e-05\n",
            "Epoch 192/200\n",
            "1/1 [==============================] - 0s 11ms/step - loss: 5.4846e-05\n",
            "Epoch 193/200\n",
            "1/1 [==============================] - 0s 4ms/step - loss: 4.5786e-05\n",
            "Epoch 194/200\n",
            "1/1 [==============================] - 0s 4ms/step - loss: 3.7393e-05\n",
            "Epoch 195/200\n",
            "1/1 [==============================] - 0s 5ms/step - loss: 3.0219e-05\n",
            "Epoch 196/200\n",
            "1/1 [==============================] - 0s 4ms/step - loss: 2.4557e-05\n",
            "Epoch 197/200\n",
            "1/1 [==============================] - 0s 3ms/step - loss: 2.0046e-05\n",
            "Epoch 198/200\n",
            "1/1 [==============================] - 0s 4ms/step - loss: 1.6065e-05\n",
            "Epoch 199/200\n",
            "1/1 [==============================] - 0s 3ms/step - loss: 1.2397e-05\n",
            "Epoch 200/200\n",
            "1/1 [==============================] - 0s 8ms/step - loss: 9.2805e-06\n"
          ]
        }
      ],
      "source": [
        "epochs_hist = model.fit (X_train, Y_train, epochs = 200)"
      ]
    },
    {
      "cell_type": "markdown",
      "metadata": {
        "id": "BhBHBAlOdrqQ"
      },
      "source": [
        "**Evaluat the model**"
      ]
    },
    {
      "cell_type": "code",
      "execution_count": 21,
      "metadata": {
        "colab": {
          "base_uri": "https://localhost:8080/"
        },
        "id": "Cy5AewVhdquS",
        "outputId": "47f103f0-47aa-4458-86d4-bb2585bad3d6"
      },
      "outputs": [
        {
          "data": {
            "text/plain": [
              "dict_keys(['loss'])"
            ]
          },
          "execution_count": 21,
          "metadata": {},
          "output_type": "execute_result"
        }
      ],
      "source": [
        "epochs_hist.history.keys()"
      ]
    },
    {
      "cell_type": "code",
      "execution_count": 22,
      "metadata": {
        "colab": {
          "base_uri": "https://localhost:8080/",
          "height": 489
        },
        "id": "Ew5uMQq6d4J-",
        "outputId": "89c0e5e6-9255-4d71-e048-656cfddb587e"
      },
      "outputs": [
        {
          "data": {
            "text/plain": [
              "<matplotlib.legend.Legend at 0x2888ded90>"
            ]
          },
          "execution_count": 22,
          "metadata": {},
          "output_type": "execute_result"
        },
        {
          "data": {
            "image/png": "[encoded data removed]",
            "text/plain": [
              "<Figure size 640x480 with 1 Axes>"
            ]
          },
          "metadata": {},
          "output_type": "display_data"
        }
      ],
      "source": [
        "plt.plot(epochs_hist.history['loss'])\n",
        "plt.title('Model loss progress During Training')\n",
        "plt.xlabel('Epochs')\n",
        "plt.ylabel('Training Loss')\n",
        "plt.legend(['Training Loss'])"
      ]
    },
    {
      "cell_type": "code",
      "execution_count": 23,
      "metadata": {
        "colab": {
          "base_uri": "https://localhost:8080/"
        },
        "id": "qct_Ne8GfoW4",
        "outputId": "cc4d7f0c-091f-4ca6-eb10-1a003def6270"
      },
      "outputs": [
        {
          "data": {
            "text/plain": [
              "[array([[1.7999804]], dtype=float32), array([32.002644], dtype=float32)]"
            ]
          },
          "execution_count": 23,
          "metadata": {},
          "output_type": "execute_result"
        }
      ],
      "source": [
        "model.get_weights()"
      ]
    },
    {
      "cell_type": "code",
      "execution_count": 24,
      "metadata": {
        "colab": {
          "base_uri": "https://localhost:8080/"
        },
        "id": "Nyupe0Zxfrgy",
        "outputId": "8159a3f1-5652-44ed-9fd4-4c131ea26169"
      },
      "outputs": [
        {
          "name": "stdout",
          "output_type": "stream",
          "text": [
            "1/1 [==============================] - 0s 80ms/step\n",
            "[[10.402878]]\n"
          ]
        }
      ],
      "source": [
        "Temp_C = -12\n",
        "Temp_F = model.predict([Temp_C])\n",
        "\n",
        "print(Temp_F)"
      ]
    }
  ],
  "metadata": {
    "colab": {
      "provenance": []
    },
    "kernelspec": {
      "display_name": "Python 3",
      "name": "python3"
    },
    "language_info": {
      "codemirror_mode": {
        "name": "ipython",
        "version": 3
      },
      "file_extension": ".py",
      "mimetype": "text/x-python",
      "name": "python",
      "nbconvert_exporter": "python",
      "pygments_lexer": "ipython3",
      "version": "3.11.5"
    }
  },
  "nbformat": 4,
  "nbformat_minor": 0
}
